{
 "cells": [
  {
   "cell_type": "code",
   "execution_count": 1,
   "id": "38abebb5",
   "metadata": {},
   "outputs": [
    {
     "name": "stdout",
     "output_type": "stream",
     "text": [
      "pygame 2.4.0 (SDL 2.26.4, Python 3.9.13)\n",
      "Hello from the pygame community. https://www.pygame.org/contribute.html\n"
     ]
    }
   ],
   "source": [
    "import pygame\n",
    "from pygame import mixer\n",
    "from tkinter import *\n",
    "import os\n",
    "from tkinter import filedialog"
   ]
  },
  {
   "cell_type": "code",
   "execution_count": 2,
   "id": "a635c520",
   "metadata": {},
   "outputs": [],
   "source": [
    "def playsong():\n",
    "    currentsong=playlist.get(ACTIVE)\n",
    "    print(currentsong)\n",
    "    mixer.music.load(currentsong)\n",
    "    songstatus.set(\"Playing\")\n",
    "    mixer.music.play()"
   ]
  },
  {
   "cell_type": "code",
   "execution_count": 3,
   "id": "59732d42",
   "metadata": {},
   "outputs": [],
   "source": [
    "def pausesong():\n",
    "    songstatus.set(\"Paused\")\n",
    "    mixer.music.pause()\n",
    "\n",
    "def stopsong():\n",
    "    songstatus.set(\"Stopped\")\n",
    "    mixer.music.stop()\n",
    "\n",
    "def resumesong():\n",
    "    songstatus.set(\"Resuming\")\n",
    "    mixer.music.unpause()"
   ]
  },
  {
   "cell_type": "code",
   "execution_count": 4,
   "id": "fed1a23d",
   "metadata": {},
   "outputs": [],
   "source": [
    "def Previous():\n",
    "    previous_one=songs_list.curselection()\n",
    "    previous_one=previous_one[0]-1\n",
    "    temp2=songs_list.get(previous_one)\n",
    "    temp2=f'C:/Users/SRAVA/OneDrive/Desktop/playlist/{temp2}'\n",
    "    mixer.music.load(temp2)\n",
    "    mixer.music.play()\n",
    "    songs_list.selection_clear(0,END)\n",
    "    songs_list.activate(previous_one)\n",
    "    songs_list.selection_set(previous_one)\n",
    "def Next():\n",
    "    next_one=songs_list.curselection()\n",
    "    next_one=next_one[0]+1\n",
    "    temp=songs_list.get(next_one)\n",
    "    temp=f'C:/Users/SRAVA/OneDrive/Desktop/playlist/{temp}'\n",
    "    mixer.music.load(temp)\n",
    "    mixer.music.play()\n",
    "    songs_list.selection_clear(0,END)\n",
    "    songs_list.activate(next_one)\n",
    "    songs_list.selection_set(next_one)"
   ]
  },
  {
   "cell_type": "code",
   "execution_count": 5,
   "id": "567df858",
   "metadata": {},
   "outputs": [
    {
     "data": {
      "text/plain": [
       "''"
      ]
     },
     "execution_count": 5,
     "metadata": {},
     "output_type": "execute_result"
    }
   ],
   "source": [
    "root=Tk()\n",
    "root.title('Music Player')"
   ]
  },
  {
   "cell_type": "code",
   "execution_count": 6,
   "id": "4cdf35ea",
   "metadata": {},
   "outputs": [],
   "source": [
    "mixer.init()\n",
    "songstatus=StringVar()\n",
    "songstatus.set(\"choosing\")"
   ]
  },
  {
   "cell_type": "code",
   "execution_count": 7,
   "id": "e291b42b",
   "metadata": {},
   "outputs": [],
   "source": [
    "playlist=Listbox(root,selectmode=SINGLE,bg=\"DodgerBlue2\",fg=\"white\",font=('arial',15),width=40)\n",
    "playlist.grid(columnspan=5)"
   ]
  },
  {
   "cell_type": "code",
   "execution_count": 8,
   "id": "45c9aaa0",
   "metadata": {},
   "outputs": [],
   "source": [
    "os.chdir(r'C:\\Users\\SRAVA\\OneDrive\\Desktop\\playlist')\n",
    "songs= os.listdir()\n",
    "for s in songs:\n",
    "    playlist.insert(END,s)"
   ]
  },
  {
   "cell_type": "code",
   "execution_count": 9,
   "id": "29175fc0",
   "metadata": {},
   "outputs": [],
   "source": [
    "prevbtn=Button(root,text=\"Prev\",command=Previous)\n",
    "prevbtn.config(font=('arial',20),bg=\"DodgerBlue2\",fg=\"white\",padx=7,pady=7)\n",
    "prevbtn.grid(row=1,column=0)"
   ]
  },
  {
   "cell_type": "code",
   "execution_count": 10,
   "id": "c890aed8",
   "metadata": {},
   "outputs": [],
   "source": [
    "playbtn=Button(root,text=\"play\",command=playsong)\n",
    "playbtn.config(font=('arial',20),bg=\"DodgerBlue2\",fg=\"white\",padx=7,pady=7)\n",
    "playbtn.grid(row=1,column=1)"
   ]
  },
  {
   "cell_type": "code",
   "execution_count": 11,
   "id": "93cb493a",
   "metadata": {},
   "outputs": [],
   "source": [
    "nextbtn=Button(root,text=\"Next\",command=Next)\n",
    "playbtn.config(font=('arial',20),bg=\"DodgerBlue2\",fg=\"white\",padx=7,pady=7)\n",
    "playbtn.grid(row=1,column=2)"
   ]
  },
  {
   "cell_type": "code",
   "execution_count": 12,
   "id": "da8b61e4",
   "metadata": {},
   "outputs": [],
   "source": [
    "pausebtn=Button(root,text=\"Pause\",command=pausesong)\n",
    "pausebtn.config(font=('arial',20),bg=\"DodgerBlue2\",fg=\"white\",padx=7,pady=7)\n",
    "pausebtn.grid(row=1,column=3)"
   ]
  },
  {
   "cell_type": "code",
   "execution_count": 13,
   "id": "ae02f4de",
   "metadata": {},
   "outputs": [],
   "source": [
    "stopbtn=Button(root,text=\"Stop\",command=stopsong)\n",
    "stopbtn.config(font=('arial',20),bg=\"DodgerBlue2\",fg=\"white\",padx=7,pady=7)\n",
    "stopbtn.grid(row=1,column=4)"
   ]
  },
  {
   "cell_type": "code",
   "execution_count": 14,
   "id": "e036879f",
   "metadata": {},
   "outputs": [],
   "source": [
    "stopbtn=Button(root,text=\"Resume\",command=resumesong)\n",
    "stopbtn.config(font=('arial',20),bg=\"DodgerBlue2\",fg=\"white\",padx=7,pady=7)\n",
    "stopbtn.grid(row=1,column=5)"
   ]
  },
  {
   "cell_type": "code",
   "execution_count": 15,
   "id": "2604c7ec",
   "metadata": {},
   "outputs": [
    {
     "name": "stdout",
     "output_type": "stream",
     "text": [
      "Hey-Mama(PagalWorld).mp3\n",
      "Hey-Mama(PagalWorld).mp3\n",
      "Jai Shri Ram(PagalWorld.com.se).mp3\n",
      "[iSongs.info] 02 - Mawa Bro.mp3\n"
     ]
    }
   ],
   "source": [
    "mainloop()"
   ]
  },
  {
   "cell_type": "code",
   "execution_count": null,
   "id": "5b6f4a45",
   "metadata": {},
   "outputs": [],
   "source": []
  }
 ],
 "metadata": {
  "kernelspec": {
   "display_name": "Python 3 (ipykernel)",
   "language": "python",
   "name": "python3"
  },
  "language_info": {
   "codemirror_mode": {
    "name": "ipython",
    "version": 3
   },
   "file_extension": ".py",
   "mimetype": "text/x-python",
   "name": "python",
   "nbconvert_exporter": "python",
   "pygments_lexer": "ipython3",
   "version": "3.9.13"
  }
 },
 "nbformat": 4,
 "nbformat_minor": 5
}
